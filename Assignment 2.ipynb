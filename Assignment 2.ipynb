{
 "cells": [
  {
   "cell_type": "markdown",
   "metadata": {},
   "source": [
    "# 1.\tWrite a Python program to convert kilometers to miles?"
   ]
  },
  {
   "cell_type": "code",
   "execution_count": 6,
   "metadata": {},
   "outputs": [
    {
     "name": "stdout",
     "output_type": "stream",
     "text": [
      "Enter the number of kilometers: 2\n",
      "The number of miles :  1.242\n"
     ]
    }
   ],
   "source": [
    "# 1 km = 0.621 miles\n",
    "a = int(input(\"Enter the number of kilometers: \"))\n",
    "b = a*0.621\n",
    "print(\"The number of miles : \",b)"
   ]
  },
  {
   "cell_type": "markdown",
   "metadata": {},
   "source": [
    "# 2.\tWrite a Python program to convert Celsius to Fahrenheit?"
   ]
  },
  {
   "cell_type": "code",
   "execution_count": 9,
   "metadata": {},
   "outputs": [
    {
     "name": "stdout",
     "output_type": "stream",
     "text": [
      "Enter temperature in Celsius: 37.0\n",
      "The temperature in fahrenheit:  98.60000000000001\n"
     ]
    }
   ],
   "source": [
    "c =float(input(\"Enter temperature in Celsius: \"))\n",
    "f = ((9/5)*c)+ 32        #formula: C/100 = (F-32)/180--->F = (9/5*C) + 32\n",
    "print(\"The temperature in fahrenheit: \",f)\n"
   ]
  },
  {
   "cell_type": "markdown",
   "metadata": {},
   "source": [
    "# 3.\tWrite a Python program to display calendar?"
   ]
  },
  {
   "cell_type": "code",
   "execution_count": 13,
   "metadata": {},
   "outputs": [
    {
     "name": "stdout",
     "output_type": "stream",
     "text": [
      "Enter the year: 2021\n",
      "Enter the month: 8\n",
      "    August 2021\n",
      "Mo Tu We Th Fr Sa Su\n",
      "                   1\n",
      " 2  3  4  5  6  7  8\n",
      " 9 10 11 12 13 14 15\n",
      "16 17 18 19 20 21 22\n",
      "23 24 25 26 27 28 29\n",
      "30 31\n",
      "\n"
     ]
    }
   ],
   "source": [
    "import calendar\n",
    "year = int(input(\"Enter the year: \"))\n",
    "month = int(input(\"Enter the month: \"))\n",
    "print(calendar.month(year,month))"
   ]
  },
  {
   "cell_type": "markdown",
   "metadata": {},
   "source": [
    "# 4.\tWrite a Python program to solve quadratic equation?"
   ]
  },
  {
   "cell_type": "code",
   "execution_count": 74,
   "metadata": {},
   "outputs": [
    {
     "name": "stdout",
     "output_type": "stream",
     "text": [
      "Enter the value for a : 0\n",
      "Enter the value for b : 5\n",
      "Enter the value for c : 8\n",
      "incorrect  Quadratic equation\n"
     ]
    }
   ],
   "source": [
    "#quadratic Equation : ax^2+ bx+c =0(a not= 0);\n",
    "#solution : (-b +or- ((b^2 -4*a*c)**0.5)/(2*a)) where discriminant d = b^2-4ac\n",
    "#there will be 3 cases for this\n",
    "#1) roots will be real and equal\n",
    "#2)roots will be real and different\n",
    "#3)roots will be complex\n",
    "import cmath\n",
    "a = float(input(\"Enter the value for a : \"))\n",
    "b = float(input(\"Enter the value for b : \"))\n",
    "c = float(input(\"Enter the value for c : \"))\n",
    "if a != 0 :\n",
    "    d = (b*b)-(4*a*c)\n",
    "    print(\"discriminant\",d)\n",
    "    e = cmath.sqrt(d)\n",
    "    print(\"square root of discriminant\",e)\n",
    "    if d>0 :\n",
    "        print(\"Real and different roots\")\n",
    "        root1 = ((-b+e)/(2*a))\n",
    "        root2 = ((-b-e)/(2*a))\n",
    "        print(root1)\n",
    "        print(root2)\n",
    "    elif b**2 == 4*a*c :\n",
    "        print(\"Real and same roots\")\n",
    "        root1 = (-b)/(2*a)\n",
    "        root2 = (-b)/(2*a)\n",
    "        print(root1)\n",
    "        print(root2)\n",
    "    else:\n",
    "        print(\"complex roots\")\n",
    "        root1 = (-b+e)/(2*a)\n",
    "        root2 = (-b-e)/(2*a)\n",
    "        print(root1)\n",
    "        print(root2)\n",
    "else :\n",
    "    print(\"incorrect  Quadratic equation\")"
   ]
  },
  {
   "cell_type": "code",
   "execution_count": 75,
   "metadata": {},
   "outputs": [
    {
     "name": "stdout",
     "output_type": "stream",
     "text": [
      "Enter the value for a : -1\n",
      "Enter the value for b : -7\n",
      "Enter the value for c : -12\n",
      "discriminant 1.0\n",
      "square root of discriminant (1+0j)\n",
      "Real and different roots\n",
      "(-4-0j)\n",
      "(-3-0j)\n"
     ]
    }
   ],
   "source": [
    "import cmath\n",
    "a = float(input(\"Enter the value for a : \"))\n",
    "b = float(input(\"Enter the value for b : \"))\n",
    "c = float(input(\"Enter the value for c : \"))\n",
    "if a != 0 :\n",
    "    d = (b*b)-(4*a*c)\n",
    "    print(\"discriminant\",d)\n",
    "    e = cmath.sqrt(d)\n",
    "    print(\"square root of discriminant\",e)\n",
    "    if d>0 :\n",
    "        print(\"Real and different roots\")\n",
    "        root1 = ((-b+e)/(2*a))\n",
    "        root2 = ((-b-e)/(2*a))\n",
    "        print(root1)\n",
    "        print(root2)\n",
    "    elif b**2 == 4*a*c :\n",
    "        print(\"Real and same roots\")\n",
    "        root1 = (-b)/(2*a)\n",
    "        root2 = (-b)/(2*a)  \n",
    "    else:\n",
    "        print(\"complex roots\")\n",
    "        root1 = (-b+e)/(2*a)\n",
    "        root2 = (-b-e)/(2*a)\n",
    "        print(root1)\n",
    "        print(root2)\n",
    "else :\n",
    "    print(\"incorrect  Quadratic equation\")"
   ]
  },
  {
   "cell_type": "code",
   "execution_count": 77,
   "metadata": {},
   "outputs": [
    {
     "name": "stdout",
     "output_type": "stream",
     "text": [
      "Enter the value for a : 7\n",
      "Enter the value for b : 5\n",
      "Enter the value for c : 2\n",
      "discriminant -31.0\n",
      "square root of discriminant 5.5677643628300215j\n",
      "complex roots\n",
      "(-0.35714285714285715+0.3976974544878587j)\n",
      "(-0.35714285714285715-0.3976974544878587j)\n"
     ]
    }
   ],
   "source": [
    "import cmath\n",
    "a = float(input(\"Enter the value for a : \"))\n",
    "b = float(input(\"Enter the value for b : \"))\n",
    "c = float(input(\"Enter the value for c : \"))\n",
    "if a != 0 :\n",
    "    d = (b*b)-(4*a*c)\n",
    "    print(\"discriminant\",d)\n",
    "    e = cmath.sqrt(d)\n",
    "    print(\"square root of discriminant\",e)\n",
    "    if d>0 :\n",
    "        print(\"Real and different roots\")\n",
    "        root1 = ((-b+e)/(2*a))\n",
    "        root2 = ((-b-e)/(2*a))\n",
    "        print(root1)\n",
    "        print(root2)\n",
    "    elif b**2 == 4*a*c :\n",
    "        print(\"Real and same roots\")\n",
    "        root1 = (-b)/(2*a)\n",
    "        root2 = (-b)/(2*a) \n",
    "        print(root1)\n",
    "        print(root2)\n",
    "    else:\n",
    "        print(\"complex roots\")\n",
    "        root1 = (-b+e)/(2*a)\n",
    "        root2 = (-b-e)/(2*a)\n",
    "        print(root1)\n",
    "        print(root2)\n",
    "else :\n",
    "    print(\"incorrect  Quadratic equation\")"
   ]
  },
  {
   "cell_type": "code",
   "execution_count": 81,
   "metadata": {},
   "outputs": [
    {
     "name": "stdout",
     "output_type": "stream",
     "text": [
      "Enter the value for a : 1\n",
      "Enter the value for b : 4\n",
      "Enter the value for c : 4\n",
      "discriminant 0.0\n",
      "square root of discriminant 0j\n",
      "Real and same roots\n",
      "-2.0\n",
      "-2.0\n"
     ]
    }
   ],
   "source": [
    "import cmath\n",
    "a = float(input(\"Enter the value for a : \"))\n",
    "b = float(input(\"Enter the value for b : \"))\n",
    "c = float(input(\"Enter the value for c : \"))\n",
    "if a != 0 :\n",
    "    d = (b*b)-(4*a*c)\n",
    "    print(\"discriminant\",d)\n",
    "    e = cmath.sqrt(d)\n",
    "    print(\"square root of discriminant\",e)\n",
    "    if d>0 :\n",
    "        print(\"Real and different roots\")\n",
    "        root1 = ((-b+e)/(2*a))\n",
    "        root2 = ((-b-e)/(2*a))\n",
    "        print(root1)\n",
    "        print(root2)\n",
    "    elif b**2 == 4*a*c :\n",
    "        print(\"Real and same roots\")\n",
    "        root1 = (-b)/(2*a)\n",
    "        root2 = (-b)/(2*a)\n",
    "        print(root1)\n",
    "        print(root2)\n",
    "    else:\n",
    "        print(\"complex roots\")\n",
    "        root1 = (-b+e)/(2*a)\n",
    "        root2 = (-b-e)/(2*a)\n",
    "        print(root1)\n",
    "        print(root2)\n",
    "else :\n",
    "    print(\"incorrect  Quadratic equation\")"
   ]
  },
  {
   "cell_type": "markdown",
   "metadata": {},
   "source": [
    "# 5.\tWrite a Python program to swap two variables without temp variable?\n",
    "\n"
   ]
  },
  {
   "cell_type": "code",
   "execution_count": 2,
   "metadata": {},
   "outputs": [
    {
     "name": "stdout",
     "output_type": "stream",
     "text": [
      "Enter any number: 6\n",
      "Enter any number: 8\n",
      "The variables after swapping:  8 6\n"
     ]
    }
   ],
   "source": [
    "a = int(input(\"Enter any number: \"))\n",
    "b = int(input(\"Enter any number: \"))\n",
    "a = a+b #example, a is assigned with sum of two numbers 5+6=11\n",
    "b = a-b #now a=11;subtract b from a so that initial value of a will be stored into b that is b = 5\n",
    "a = a-b# subtract b from a (11-5=6) that is intial value of b will be stored into a;Hence the variables get swapped\n",
    "print(\"The variables after swapping: \" , a,b)"
   ]
  }
 ],
 "metadata": {
  "kernelspec": {
   "display_name": "Python 3",
   "language": "python",
   "name": "python3"
  },
  "language_info": {
   "codemirror_mode": {
    "name": "ipython",
    "version": 3
   },
   "file_extension": ".py",
   "mimetype": "text/x-python",
   "name": "python",
   "nbconvert_exporter": "python",
   "pygments_lexer": "ipython3",
   "version": "3.8.3"
  }
 },
 "nbformat": 4,
 "nbformat_minor": 4
}
