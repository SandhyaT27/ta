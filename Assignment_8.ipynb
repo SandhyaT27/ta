{
 "cells": [
  {
   "cell_type": "markdown",
   "metadata": {},
   "source": [
    "# 1.\tWrite a Python Program to Add Two Matrices?"
   ]
  },
  {
   "cell_type": "code",
   "execution_count": 21,
   "metadata": {},
   "outputs": [
    {
     "name": "stdout",
     "output_type": "stream",
     "text": [
      "[10, 34, 10]\n",
      "[20, 80, 10]\n",
      "[110, 10, 20]\n"
     ]
    }
   ],
   "source": [
    "X = [[1,26,3],\n",
    "    [14 ,15,6],\n",
    "    [17 ,8,19]]\n",
    "  \n",
    "Y = [[9,8,7],\n",
    "    [6,65,4],\n",
    "    [93,2,1]]\n",
    " \n",
    "result = [[X[i][j] + Y[i][j]  for j in range\n",
    "(len(X[0]))] for i in range(len(X))]\n",
    "  \n",
    "for r in result:\n",
    "    print(r)"
   ]
  },
  {
   "cell_type": "markdown",
   "metadata": {},
   "source": [
    "# 2.\tWrite a Python Program to Multiply Two Matrices?"
   ]
  },
  {
   "cell_type": "code",
   "execution_count": 22,
   "metadata": {},
   "outputs": [
    {
     "name": "stdout",
     "output_type": "stream",
     "text": [
      "[9574, 7750, 160, 227]\n",
      "[1514, 1832, 218, 34]\n",
      "[719, 707, 202, 33]\n"
     ]
    }
   ],
   "source": [
    "# take a 3x3 matrix\n",
    "A = [[112, 7, 3],\n",
    "    [14, 50, 6],\n",
    "    [7, 8, 19]]\n",
    " \n",
    "# take a 3x4 matrix   \n",
    "B = [[85, 68, 1, 2],\n",
    "    [6, 17, 3, 0],\n",
    "    [4, 5, 9, 1]]\n",
    "result = [[0, 0, 0, 0],\n",
    "        [0, 0, 0, 0],\n",
    "        [0, 0, 0, 0]]\n",
    "\n",
    "for i in range(len(A)):\n",
    " \n",
    "    # iterating by column by B\n",
    "    for j in range(len(B[0])):\n",
    " \n",
    "        # iterating by rows of B\n",
    "        for k in range(len(B)):\n",
    "            result[i][j] += A[i][k] * B[k][j]\n",
    "for r in result:\n",
    "    print(r)"
   ]
  },
  {
   "cell_type": "markdown",
   "metadata": {},
   "source": [
    "# 3.\tWrite a Python Program to Transpose a Matrix?"
   ]
  },
  {
   "cell_type": "code",
   "execution_count": 19,
   "metadata": {},
   "outputs": [
    {
     "name": "stdout",
     "output_type": "stream",
     "text": [
      "Enter the Number of rows : 3\n",
      "Enter the Number of Columns: 3\n",
      "Enter the elements of Matrix:\n",
      "1\n",
      "2\n",
      "3\n",
      "6\n",
      "9\n",
      "7\n",
      "8\n",
      "2\n",
      "6\n",
      "-------Your  Matrix is---------\n",
      "[1, 2, 3]\n",
      "[6, 9, 7]\n",
      "[8, 2, 6]\n",
      "Transpose matrix is: \n",
      "[1, 6, 8]\n",
      "[2, 9, 2]\n",
      "[3, 7, 6]\n"
     ]
    }
   ],
   "source": [
    "rows = int(input(\"Enter the Number of rows : \" ))\n",
    "column = int(input(\"Enter the Number of Columns: \"))\n",
    "\n",
    "print(\"Enter the elements of Matrix:\")\n",
    "matrix= [[int(input()) for i in range(column)] for i in range(rows)]\n",
    "print(\"-------Your  Matrix is---------\")\n",
    "for n in matrix:\n",
    "    print(n)\n",
    "\n",
    "#result matrix of column*row  dimension\n",
    "\n",
    "result =[[0 for i in range(rows)] for j in range(column)]\n",
    "\n",
    "#transpose the matrix\n",
    "for r in range(rows):\n",
    "   \n",
    "   for c in range(column):\n",
    "       #here we are grabbing the row data of matrix and putting it in the column on the result\n",
    "       result[c][r] = matrix[r][c]\n",
    "\n",
    "print(\"Transpose matrix is: \")\n",
    "for r in result:\n",
    "    print(r)"
   ]
  },
  {
   "cell_type": "markdown",
   "metadata": {},
   "source": [
    "# 4.\tWrite a Python Program to Sort Words in Alphabetic Order?"
   ]
  },
  {
   "cell_type": "code",
   "execution_count": 6,
   "metadata": {},
   "outputs": [],
   "source": [
    "def Sort_words():\n",
    "    input_=input(\"Enter a string in Alphabetical order: \")\n",
    "    try:\n",
    "        word= input_.split()\n",
    "        word.sort()\n",
    "        sent =[s for s in word]\n",
    "        print(\"After sorting: \",' '.join(sent))\n",
    "    except Exception as e:\n",
    "        print(e)"
   ]
  },
  {
   "cell_type": "code",
   "execution_count": 10,
   "metadata": {},
   "outputs": [
    {
     "name": "stdout",
     "output_type": "stream",
     "text": [
      "Enter a string in Alphabetical order: i am learning python\n",
      "After sorting:  am i learning python\n"
     ]
    }
   ],
   "source": [
    "Sort_words()"
   ]
  },
  {
   "cell_type": "markdown",
   "metadata": {},
   "source": [
    "# 5.\tWrite a Python Program to Remove Punctuation From a String?"
   ]
  },
  {
   "cell_type": "code",
   "execution_count": 1,
   "metadata": {},
   "outputs": [],
   "source": [
    "import re\n",
    "def rem_pun():\n",
    "    input_str=input(\"Enter a sentence: \")\n",
    "    try:\n",
    "        a = re.sub(r'[^\\w\\s]','',input_str)\n",
    "        print(\"Sentence after removing Punctuation: \",a)\n",
    "    except Exception as e:\n",
    "        print(e)"
   ]
  },
  {
   "cell_type": "code",
   "execution_count": 2,
   "metadata": {},
   "outputs": [
    {
     "name": "stdout",
     "output_type": "stream",
     "text": [
      "Enter a sentence: hi,my name is abc.\n",
      "Sentence after removing Punctuation:  himy name is abc\n"
     ]
    }
   ],
   "source": [
    "rem_pun()"
   ]
  }
 ],
 "metadata": {
  "kernelspec": {
   "display_name": "Python 3",
   "language": "python",
   "name": "python3"
  },
  "language_info": {
   "codemirror_mode": {
    "name": "ipython",
    "version": 3
   },
   "file_extension": ".py",
   "mimetype": "text/x-python",
   "name": "python",
   "nbconvert_exporter": "python",
   "pygments_lexer": "ipython3",
   "version": "3.8.3"
  }
 },
 "nbformat": 4,
 "nbformat_minor": 4
}
