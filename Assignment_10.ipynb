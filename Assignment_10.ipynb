{
 "cells": [
  {
   "cell_type": "markdown",
   "metadata": {},
   "source": [
    "# 1.\tWrite a Python program to find sum of elements in list?"
   ]
  },
  {
   "cell_type": "code",
   "execution_count": 23,
   "metadata": {},
   "outputs": [
    {
     "name": "stdout",
     "output_type": "stream",
     "text": [
      "enter the no of elements to be inserted in the list: 6\n",
      "enter the element: 1\n",
      "enter the element: 2\n",
      "enter the element: 3\n",
      "enter the element: 4\n",
      "enter the element: 5\n",
      "enter the element: 6\n",
      "[1, 2, 3, 4, 5, 6]\n",
      "21\n"
     ]
    }
   ],
   "source": [
    "n=int(input(\"enter the no of elements to be inserted in the list: \"))\n",
    "list1=[]\n",
    "for item in range(n):\n",
    "    n=int(input(\"enter the element: \"))\n",
    "    list1.append(n)\n",
    "print(list1)\n",
    "sum1=0\n",
    "for i in list1:\n",
    "    sum1=sum1+i\n",
    "    i=i+1\n",
    "print(sum1)"
   ]
  },
  {
   "cell_type": "markdown",
   "metadata": {},
   "source": [
    "# 2.\tWrite a Python program to  Multiply all numbers in the list?"
   ]
  },
  {
   "cell_type": "code",
   "execution_count": 25,
   "metadata": {},
   "outputs": [
    {
     "name": "stdout",
     "output_type": "stream",
     "text": [
      "enter the no of elements to be inserted in the list: 6\n",
      "enter the element: 1\n",
      "enter the element: 2\n",
      "enter the element: 3\n",
      "enter the element: 4\n",
      "enter the element: 5\n",
      "enter the element: 6\n",
      "[1, 2, 3, 4, 5, 6]\n",
      "Product is :  720\n"
     ]
    }
   ],
   "source": [
    "n=int(input(\"enter the no of elements to be inserted in the list: \"))\n",
    "list1=[]\n",
    "for item in range(n):\n",
    "    n=int(input(\"enter the element: \"))\n",
    "    list1.append(n)\n",
    "print(list1)\n",
    "product=1\n",
    "for i in list1:\n",
    "    product=product*i\n",
    "    i=i+1\n",
    "print(\"Product is : \",product)\n",
    "    "
   ]
  },
  {
   "cell_type": "markdown",
   "metadata": {},
   "source": [
    "# 3.\tWrite a Python program to find smallest number in a list?"
   ]
  },
  {
   "cell_type": "code",
   "execution_count": 27,
   "metadata": {},
   "outputs": [
    {
     "name": "stdout",
     "output_type": "stream",
     "text": [
      "enter the no of elements to be inserted in the list: 6\n",
      "enter the element: 5\n",
      "enter the element: 4\n",
      "enter the element: 3\n",
      "enter the element: 6\n",
      "enter the element: 6\n",
      "enter the element: 5\n",
      "[5, 4, 3, 6, 6, 5]\n",
      "[3, 4, 5, 6]\n",
      "3\n"
     ]
    }
   ],
   "source": [
    "n=int(input(\"enter the no of elements to be inserted in the list: \"))\n",
    "list1=[]\n",
    "for item in range(n):\n",
    "    n=int(input(\"enter the element: \"))\n",
    "    list1.append(n)\n",
    "print(list1)\n",
    "a = set(list1)\n",
    "b = list(a)\n",
    "print(b)\n",
    "b.sort()\n",
    "print(b[0])"
   ]
  },
  {
   "cell_type": "markdown",
   "metadata": {},
   "source": [
    "# 4.\tWrite a Python program to find largest number in a list?"
   ]
  },
  {
   "cell_type": "code",
   "execution_count": 29,
   "metadata": {},
   "outputs": [
    {
     "name": "stdout",
     "output_type": "stream",
     "text": [
      "enter the no of elements to be inserted in the list: 6\n",
      "enter the element: 5\n",
      "enter the element: 4\n",
      "enter the element: 2\n",
      "enter the element: 9\n",
      "enter the element: 1\n",
      "enter the element: 3\n",
      "[5, 4, 2, 9, 1, 3]\n",
      "[1, 2, 3, 4, 5, 9]\n",
      "9\n"
     ]
    }
   ],
   "source": [
    "n=int(input(\"enter the no of elements to be inserted in the list: \"))\n",
    "list1=[]\n",
    "for item in range(n):\n",
    "    n=int(input(\"enter the element: \"))\n",
    "    list1.append(n)\n",
    "print(list1)\n",
    "a = set(list1)\n",
    "b = list(a)\n",
    "print(b)\n",
    "b.sort()\n",
    "print(b[-1])"
   ]
  },
  {
   "cell_type": "markdown",
   "metadata": {},
   "source": [
    "# 5.\tWrite a Python program to find second largest number in a list?"
   ]
  },
  {
   "cell_type": "code",
   "execution_count": 30,
   "metadata": {},
   "outputs": [
    {
     "name": "stdout",
     "output_type": "stream",
     "text": [
      "enter the no of elements to be inserted in the list: 6\n",
      "enter the element: 1\n",
      "enter the element: 5\n",
      "enter the element: 8\n",
      "enter the element: 7\n",
      "enter the element: 8\n",
      "enter the element: 6\n",
      "[1, 5, 8, 7, 8, 6]\n",
      "[1, 5, 6, 7, 8]\n",
      "7\n"
     ]
    }
   ],
   "source": [
    "n=int(input(\"enter the no of elements to be inserted in the list: \"))\n",
    "list1=[]\n",
    "for item in range(n):\n",
    "    n=int(input(\"enter the element: \"))\n",
    "    list1.append(n)\n",
    "print(list1)\n",
    "a = set(list1)\n",
    "b = list(a)\n",
    "print(b)\n",
    "b.sort()\n",
    "print(b[-2])"
   ]
  },
  {
   "cell_type": "markdown",
   "metadata": {},
   "source": [
    "# 6.\tWrite a Python program to find N largest elements from a list?"
   ]
  },
  {
   "cell_type": "code",
   "execution_count": 52,
   "metadata": {},
   "outputs": [
    {
     "name": "stdout",
     "output_type": "stream",
     "text": [
      "enter the no of elements to be inserted in the list: 6\n",
      "enter the element: 4\n",
      "enter the element: 5\n",
      "enter the element: 6\n",
      "enter the element: 4\n",
      "enter the element: 5\n",
      "enter the element: 2\n",
      "[4, 5, 6, 4, 5, 2]\n",
      "[2, 4, 5, 6]\n",
      "length of list : 4\n",
      "Enter how many large numbers you want from list: 3\n",
      "The  3 largest elements from list are :  [4, 5, 6]\n"
     ]
    }
   ],
   "source": [
    "n=int(input(\"enter the no of elements to be inserted in the list: \"))\n",
    "list1=[]\n",
    "for item in range(n):\n",
    "    n=int(input(\"enter the element: \"))\n",
    "    list1.append(n)\n",
    "print(list1)\n",
    "a = set(list1)\n",
    "b = list(a)\n",
    "print(b)\n",
    "b.sort()\n",
    "c=len(b)\n",
    "print(\"length of list :\",c)\n",
    "n1=int(input(\"Enter how many large numbers you want from list: \"))\n",
    "if n1>c:\n",
    "    print(\"Entered value is greater than the length of list\")\n",
    "else:\n",
    "    print(\"The \",n1, \"largest elements from list are : \",b[(c-n1):])   "
   ]
  },
  {
   "cell_type": "markdown",
   "metadata": {},
   "source": [
    "# 7.\tWrite a Python program to print even numbers in a list?"
   ]
  },
  {
   "cell_type": "code",
   "execution_count": 53,
   "metadata": {},
   "outputs": [
    {
     "name": "stdout",
     "output_type": "stream",
     "text": [
      "enter the no of elements to be inserted in the list: 6\n",
      "enter the element: 1\n",
      "enter the element: 2\n",
      "enter the element: 4\n",
      "enter the element: 5\n",
      "enter the element: 8\n",
      "enter the element: 9\n",
      "[1, 2, 4, 5, 8, 9]\n",
      "Even numbers in list:  [2, 4, 8]\n"
     ]
    }
   ],
   "source": [
    "n=int(input(\"enter the no of elements to be inserted in the list: \"))\n",
    "list1=[]\n",
    "for item in range(n):\n",
    "    n=int(input(\"enter the element: \"))\n",
    "    list1.append(n)\n",
    "print(list1)\n",
    "even =[i for i in list1 if i%2==0]\n",
    "print(\"Even numbers in list: \",even)"
   ]
  },
  {
   "cell_type": "markdown",
   "metadata": {},
   "source": [
    "# 8.\tWrite a Python program to print odd numbers in a List?"
   ]
  },
  {
   "cell_type": "code",
   "execution_count": 54,
   "metadata": {},
   "outputs": [
    {
     "name": "stdout",
     "output_type": "stream",
     "text": [
      "enter the no of elements to be inserted in the list: 6\n",
      "enter the element: 1\n",
      "enter the element: 5\n",
      "enter the element: 4\n",
      "enter the element: 6\n",
      "enter the element: 2\n",
      "enter the element: 5\n",
      "[1, 5, 4, 6, 2, 5]\n",
      "odd numbers in list:  [1, 5, 5]\n"
     ]
    }
   ],
   "source": [
    "n=int(input(\"enter the no of elements to be inserted in the list: \"))\n",
    "list1=[]\n",
    "for item in range(n):\n",
    "    n=int(input(\"enter the element: \"))\n",
    "    list1.append(n)\n",
    "print(list1)\n",
    "odd =[i for i in list1 if i%2!=0]\n",
    "print(\"odd numbers in list: \",odd)"
   ]
  },
  {
   "cell_type": "markdown",
   "metadata": {},
   "source": [
    "# 9.\tWrite a Python program to Remove empty List from List?"
   ]
  },
  {
   "cell_type": "code",
   "execution_count": 55,
   "metadata": {},
   "outputs": [
    {
     "name": "stdout",
     "output_type": "stream",
     "text": [
      "the given list:  [44, 87, [], 58, []]\n",
      "The new list :  [44, 87, 58]\n"
     ]
    }
   ],
   "source": [
    "list1=[44,87,[],58,[]]\n",
    "print(\"the given list: \",list1)\n",
    "list2=[i for i in list1 if i !=[]]\n",
    "print(\"The new list : \",list2)"
   ]
  },
  {
   "cell_type": "markdown",
   "metadata": {},
   "source": [
    "# 10.\tWrite a Python program to Cloning or Copying a list?"
   ]
  },
  {
   "cell_type": "code",
   "execution_count": 57,
   "metadata": {},
   "outputs": [
    {
     "name": "stdout",
     "output_type": "stream",
     "text": [
      "enter the no of elements to be inserted in the list: 2\n",
      "enter the element: 1\n",
      "enter the element: 5\n",
      "[1, 5]\n",
      "The copy of list is :  [1, 5]\n"
     ]
    }
   ],
   "source": [
    "n=int(input(\"enter the no of elements to be inserted in the list: \"))\n",
    "list1=[]\n",
    "for item in range(n):\n",
    "    n=int(input(\"enter the element: \"))\n",
    "    list1.append(n)\n",
    "print(list1)\n",
    "list2=list1.copy()\n",
    "print(\"The copy of list is : \",list2)"
   ]
  },
  {
   "cell_type": "markdown",
   "metadata": {},
   "source": [
    "# 11.\tWrite a Python program to Count occurrences of an element in a list?"
   ]
  },
  {
   "cell_type": "code",
   "execution_count": 61,
   "metadata": {},
   "outputs": [
    {
     "name": "stdout",
     "output_type": "stream",
     "text": [
      "enter the no of elements to be inserted in the list: 5\n",
      "enter the element: 1\n",
      "enter the element: 1\n",
      "enter the element: 1\n",
      "enter the element: 1\n",
      "enter the element: 1\n",
      "[1, 1, 1, 1, 1]\n",
      "Enter the element to count occurences : 1\n",
      "1  has occured  5  times\n"
     ]
    }
   ],
   "source": [
    "n=int(input(\"enter the no of elements to be inserted in the list: \"))\n",
    "list1=[]\n",
    "for item in range(n):\n",
    "    n=int(input(\"enter the element: \"))\n",
    "    list1.append(n)\n",
    "print(list1)\n",
    "n = int(input(\"Enter the element to count occurences : \"))\n",
    "print(n,\" has occured \",list1.count(n),\" times\")"
   ]
  }
 ],
 "metadata": {
  "kernelspec": {
   "display_name": "Python 3",
   "language": "python",
   "name": "python3"
  },
  "language_info": {
   "codemirror_mode": {
    "name": "ipython",
    "version": 3
   },
   "file_extension": ".py",
   "mimetype": "text/x-python",
   "name": "python",
   "nbconvert_exporter": "python",
   "pygments_lexer": "ipython3",
   "version": "3.8.3"
  }
 },
 "nbformat": 4,
 "nbformat_minor": 4
}
