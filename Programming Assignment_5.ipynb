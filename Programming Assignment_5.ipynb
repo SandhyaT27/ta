{
 "cells": [
  {
   "cell_type": "markdown",
   "metadata": {},
   "source": [
    "# 1.\tWrite a Python Program to Find LCM?"
   ]
  },
  {
   "cell_type": "markdown",
   "metadata": {},
   "source": [
    "LCM :Least Common Multiple: is the smallest positive integer that is divisible by both a and b(a,b!=0)"
   ]
  },
  {
   "cell_type": "code",
   "execution_count": 25,
   "metadata": {},
   "outputs": [],
   "source": [
    "def lcm(x,y):\n",
    "        if x>y:\n",
    "            greater = x\n",
    "        else :\n",
    "            greater = y\n",
    "        try:\n",
    "            while(True):\n",
    "                if((greater%x==0) and (greater%y==0)):\n",
    "                    lcm = greater\n",
    "                    break\n",
    "                greater=greater+1\n",
    "            print(\"lcm is : \",lcm)\n",
    "        except ZeroDivisionError as e:\n",
    "            return e"
   ]
  },
  {
   "cell_type": "code",
   "execution_count": 26,
   "metadata": {},
   "outputs": [
    {
     "name": "stdout",
     "output_type": "stream",
     "text": [
      "lcm is :  2\n"
     ]
    }
   ],
   "source": [
    "lcm(1,2)"
   ]
  },
  {
   "cell_type": "code",
   "execution_count": 27,
   "metadata": {},
   "outputs": [
    {
     "name": "stdout",
     "output_type": "stream",
     "text": [
      "lcm is :  12\n"
     ]
    }
   ],
   "source": [
    "lcm(3,4)"
   ]
  },
  {
   "cell_type": "code",
   "execution_count": 28,
   "metadata": {},
   "outputs": [
    {
     "data": {
      "text/plain": [
       "ZeroDivisionError('integer division or modulo by zero')"
      ]
     },
     "execution_count": 28,
     "metadata": {},
     "output_type": "execute_result"
    }
   ],
   "source": [
    "lcm(0,2)"
   ]
  },
  {
   "cell_type": "markdown",
   "metadata": {},
   "source": [
    "However, by definition, the least common multiple, LCM, of two integers is the smallest positive integer larger than 0 that is a multiple of both.\n",
    "If zero had been counted valid, then it would have been the lowest common multiple of any numbers."
   ]
  },
  {
   "cell_type": "markdown",
   "metadata": {},
   "source": [
    "# 2.\tWrite a Python Program to Find HCF?"
   ]
  },
  {
   "cell_type": "markdown",
   "metadata": {},
   "source": [
    "The HCF (Highest Common Factor) of two or more numbers is the highest number among all the common factors of the given numbers. In simple words, the HCF (Highest Common Factor) of two natural numbers x and y is the largest possible number that divides both x and y. Let us understand this definition using two numbers, 18 and 27. The common factors of 18 and 27 are 1, 3, and 9. Among these numbers, 9 is the highest (largest) number. So, the HCF of 18 and 27 is 9. This is written as: HCF (18,27) = 9."
   ]
  },
  {
   "cell_type": "code",
   "execution_count": 45,
   "metadata": {},
   "outputs": [],
   "source": [
    "def hcf(x,y):\n",
    "    if x>y:\n",
    "        smallest = y\n",
    "    else:\n",
    "        smallest = x\n",
    "    try:\n",
    "        for i in range(1,smallest+1):\n",
    "            if((x%i==0) and (y%i==0)):\n",
    "                hcf=i\n",
    "        print(\"hcf is \",hcf)\n",
    "    except UnboundLocalError as e:\n",
    "        return e"
   ]
  },
  {
   "cell_type": "code",
   "execution_count": 46,
   "metadata": {},
   "outputs": [
    {
     "name": "stdout",
     "output_type": "stream",
     "text": [
      "hcf is  9\n"
     ]
    }
   ],
   "source": [
    "hcf(18,27)"
   ]
  },
  {
   "cell_type": "code",
   "execution_count": 47,
   "metadata": {},
   "outputs": [
    {
     "data": {
      "text/plain": [
       "UnboundLocalError(\"local variable 'hcf' referenced before assignment\")"
      ]
     },
     "execution_count": 47,
     "metadata": {},
     "output_type": "execute_result"
    }
   ],
   "source": [
    "hcf(0,18)"
   ]
  },
  {
   "cell_type": "markdown",
   "metadata": {},
   "source": [
    "# 3.\tWrite a Python Program to Convert Decimal to Binary, Octal and Hexadecimal?"
   ]
  },
  {
   "cell_type": "code",
   "execution_count": 99,
   "metadata": {},
   "outputs": [],
   "source": [
    "def decimal_conversion(x):\n",
    "    print(\"The number in Binary is: \",bin(x))\n",
    "    print(\"The number in Octal is: \",oct(x))\n",
    "    print(\"The number in Hexadecimal is: \",hex(x))    "
   ]
  },
  {
   "cell_type": "code",
   "execution_count": 100,
   "metadata": {},
   "outputs": [
    {
     "name": "stdout",
     "output_type": "stream",
     "text": [
      "The number in Binary is:  0b10000\n",
      "The number in Octal is:  0o20\n",
      "The number in Hexadecimal is:  0x10\n"
     ]
    }
   ],
   "source": [
    "decimal_conversion(16)"
   ]
  },
  {
   "cell_type": "markdown",
   "metadata": {},
   "source": [
    "# 4.\tWrite a Python Program To Find ASCII value of a character?"
   ]
  },
  {
   "cell_type": "markdown",
   "metadata": {},
   "source": [
    "Python ord() function returns the Unicode code from a given character. ... In other words, given a string of length 1, the ord() function returns an integer representing the Unicode code point of the character when an argument is a Unicode object, or the value of the byte when the argument is an 8-bit string.\n",
    "Unicode is also an encoding technique that provides a unique number to a character. While ASCII only encodes 128 characters, the current Unicode has more than 100,000 characters from hundreds of scripts."
   ]
  },
  {
   "cell_type": "code",
   "execution_count": 60,
   "metadata": {},
   "outputs": [],
   "source": [
    "def ASCII():\n",
    "    x = input(\"Enter a character: \")\n",
    "    try:\n",
    "        print(\"The ASCII Value of given character is: \",ord(x)) \n",
    "    except TypeError as e:\n",
    "        return e"
   ]
  },
  {
   "cell_type": "code",
   "execution_count": 61,
   "metadata": {},
   "outputs": [
    {
     "name": "stdout",
     "output_type": "stream",
     "text": [
      "Enter a character: 23\n"
     ]
    },
    {
     "data": {
      "text/plain": [
       "TypeError('ord() expected a character, but string of length 2 found')"
      ]
     },
     "execution_count": 61,
     "metadata": {},
     "output_type": "execute_result"
    }
   ],
   "source": [
    "ASCII()"
   ]
  },
  {
   "cell_type": "code",
   "execution_count": 62,
   "metadata": {},
   "outputs": [
    {
     "name": "stdout",
     "output_type": "stream",
     "text": [
      "Enter a character: A\n",
      "The ASCII Value of given character is:  65\n"
     ]
    }
   ],
   "source": [
    "ASCII()"
   ]
  },
  {
   "cell_type": "markdown",
   "metadata": {},
   "source": [
    "# 5.\tWrite a Python Program to Make a Simple Calculator with 4 basic mathematical operations?"
   ]
  },
  {
   "cell_type": "code",
   "execution_count": 95,
   "metadata": {},
   "outputs": [
    {
     "name": "stdout",
     "output_type": "stream",
     "text": [
      "Select Operation\n",
      "1.Addition\n",
      "2.Subtraction\n",
      "3.Multiplication\n",
      "4.Division\n",
      "Enter pick(1/2/3/4)0\n",
      "Invalid operation\n",
      "Enter pick(1/2/3/4)1\n",
      "Enter the number: 3\n",
      "Enter the number: 3\n",
      "The addition of given 2 numbers is:  6.0\n",
      "Enter pick(1/2/3/4)2\n",
      "Enter the number: 3\n",
      "Enter the number: 3\n",
      "The subtraction of given 2 numbers is:  0.0\n",
      "Enter pick(1/2/3/4)3\n",
      "Enter the number: 3\n",
      "Enter the number: 3\n",
      "The multiplication of given 2 numbers is:  9.0\n",
      "Enter pick(1/2/3/4)4\n",
      "Enter the number: 3\n",
      "Enter the number: 3\n",
      "The division of given 2 numbers is:  1.0\n",
      "Enter pick(1/2/3/4)5\n",
      "Invalid operation\n"
     ]
    }
   ],
   "source": [
    "def addition(x,y):\n",
    "    print(\"The addition of given 2 numbers is: \",x+y )\n",
    "def subtraction(x,y):\n",
    "    print(\"The subtraction of given 2 numbers is: \",x-y )\n",
    "def multiplication(x,y):\n",
    "    print(\"The multiplication of given 2 numbers is: \",x*y )\n",
    "def division(x,y):\n",
    "    print(\"The division of given 2 numbers is: \",x/y )\n",
    "print(\"Select Operation\")\n",
    "print(\"1.Addition\")\n",
    "print(\"2.Subtraction\")\n",
    "print(\"3.Multiplication\")\n",
    "print(\"4.Division\")\n",
    "while True:\n",
    "    pick = input(\"Enter pick(1/2/3/4)\")\n",
    "    if pick == '0':\n",
    "        print(\"Invalid operation\")\n",
    "    elif pick == '1':\n",
    "        a = float(input(\"Enter the number: \"))\n",
    "        b = float(input(\"Enter the number: \"))\n",
    "        addition(a,b)\n",
    "    elif pick == '2':\n",
    "        a = float(input(\"Enter the number: \"))\n",
    "        b = float(input(\"Enter the number: \"))\n",
    "        subtraction(a,b)\n",
    "    elif pick == '3':\n",
    "        a = float(input(\"Enter the number: \"))\n",
    "        b = float(input(\"Enter the number: \"))\n",
    "        multiplication(a,b)\n",
    "    elif pick == '4':\n",
    "        a = float(input(\"Enter the number: \"))\n",
    "        b = float(input(\"Enter the number: \"))\n",
    "        division(a,b)\n",
    "    else:\n",
    "        print(\"Invalid operation\")\n",
    "        break\n"
   ]
  }
 ],
 "metadata": {
  "kernelspec": {
   "display_name": "Python 3",
   "language": "python",
   "name": "python3"
  },
  "language_info": {
   "codemirror_mode": {
    "name": "ipython",
    "version": 3
   },
   "file_extension": ".py",
   "mimetype": "text/x-python",
   "name": "python",
   "nbconvert_exporter": "python",
   "pygments_lexer": "ipython3",
   "version": "3.8.3"
  }
 },
 "nbformat": 4,
 "nbformat_minor": 4
}
