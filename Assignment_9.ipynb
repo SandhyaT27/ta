{
 "cells": [
  {
   "cell_type": "markdown",
   "metadata": {},
   "source": [
    "# 1.\tWrite a Python program to check if the given number is a Disarium Number?"
   ]
  },
  {
   "cell_type": "code",
   "execution_count": 7,
   "metadata": {},
   "outputs": [
    {
     "name": "stdout",
     "output_type": "stream",
     "text": [
      "enter the number: 135\n",
      "135 Number is dissarium\n"
     ]
    }
   ],
   "source": [
    "#A number is said to be the Disarium number when the sum of its digit raised to the power of their respective positions is equal\n",
    "#to the number itself. Ex:135 implies 1+9+125=135\n",
    "def dissarium(num):\n",
    "    sum1 = 0\n",
    "    while(num>0):\n",
    "        l = len(str(num))\n",
    "        n=num%10\n",
    "        sum1=sum1+n**l\n",
    "        l=l-1\n",
    "        num=num//10\n",
    "    return sum1\n",
    "num=int(input(\"enter the number: \"))\n",
    "sum1=dissarium(num)\n",
    "if sum1==num:\n",
    "    print(num,\"Number is dissarium\")\n",
    "else:\n",
    "    print(num,\"num is not Dissarium\")\n",
    "                "
   ]
  },
  {
   "cell_type": "markdown",
   "metadata": {},
   "source": [
    "# 2.\tWrite a Python program to print all disarium numbers between 1 to 100?"
   ]
  },
  {
   "cell_type": "code",
   "execution_count": 8,
   "metadata": {},
   "outputs": [
    {
     "name": "stdout",
     "output_type": "stream",
     "text": [
      "Dissarium num in range 1 to 100 : \n",
      "[1, 2, 3, 4, 5, 6, 7, 8, 9, 89]\n"
     ]
    }
   ],
   "source": [
    "def dissarium(num):\n",
    "    sum1 = 0\n",
    "    while(num>0):\n",
    "        l = len(str(num))\n",
    "        n=num%10\n",
    "        sum1=sum1+n**l\n",
    "        l=l-1\n",
    "        num=num//10\n",
    "    return sum1\n",
    "print(\"Dissarium num in range 1 to 100 : \")\n",
    "d =[]\n",
    "for i in range(1,101):\n",
    "    sum1=0\n",
    "    sum1=dissarium(i)\n",
    "    if sum1==i:\n",
    "        d.append(i)\n",
    "print(d)\n",
    "        "
   ]
  },
  {
   "cell_type": "markdown",
   "metadata": {},
   "source": [
    "# 3.\tWrite a Python program to check if the given number is Happy Number?"
   ]
  },
  {
   "cell_type": "code",
   "execution_count": 15,
   "metadata": {},
   "outputs": [
    {
     "name": "stdout",
     "output_type": "stream",
     "text": [
      "Enter the number: 13\n",
      "13 is a happy number\n"
     ]
    }
   ],
   "source": [
    "#In number theory, a happy number is a number which eventually reaches 1 when replaced by the sum of the square of each digit.\n",
    "#For instance, 13 is a happy number because 1^{2}+3^{2}=10;1^{2}+0^{2}=1}\n",
    "def Happy(n):\n",
    "    sum1=0\n",
    "    while n>0:\n",
    "        n1=n%10\n",
    "        sum1=sum1+n1**2\n",
    "        n=n//10\n",
    "    return sum1\n",
    "n = int(input(\"Enter the number: \"))\n",
    "result = n\n",
    "while(result!=1 and result!=4):\n",
    "    result=Happy(result)\n",
    "if result==1:\n",
    "    print(n,\"is a happy number\")\n",
    "else:\n",
    "    print(n,\"is unhappy\")\n",
    "    "
   ]
  },
  {
   "cell_type": "markdown",
   "metadata": {},
   "source": [
    "# 4.\tWrite a Python program to print all happy numbers between 1 and 100?"
   ]
  },
  {
   "cell_type": "code",
   "execution_count": 20,
   "metadata": {},
   "outputs": [
    {
     "name": "stdout",
     "output_type": "stream",
     "text": [
      "Happy numbers in range 1 to 100: \n",
      "[1, 7, 10, 13, 19, 23, 28, 31, 32, 44, 49, 68, 70, 79, 82, 86, 91, 94, 97, 100]\n"
     ]
    }
   ],
   "source": [
    "def Happy(n):\n",
    "    sum1=0\n",
    "    while n>0:\n",
    "        n1=n%10\n",
    "        sum1=sum1+n1**2\n",
    "        n=n//10\n",
    "    return sum1\n",
    "print(\"Happy numbers in range 1 to 100: \")\n",
    "result=n=i=0\n",
    "H=[]\n",
    "for i in range(1,101):\n",
    "    result=i\n",
    "    while(result!=1 and result!=4):\n",
    "        result=Happy(result)\n",
    "    if result==1:\n",
    "        H.append(i)\n",
    "print(H)\n",
    "    \n",
    "    "
   ]
  },
  {
   "cell_type": "markdown",
   "metadata": {},
   "source": [
    "# 5.\tWrite a Python program to determine whether the given number is a Harshad Number?"
   ]
  },
  {
   "cell_type": "code",
   "execution_count": 46,
   "metadata": {},
   "outputs": [
    {
     "name": "stdout",
     "output_type": "stream",
     "text": [
      "Enter the num:156\n",
      "156 is Harshad number\n"
     ]
    }
   ],
   "source": [
    "#A number is said to be the Harshad number if it is divisible by the sum of its digit. \n",
    "def Harshad(n):\n",
    "    sum1=0\n",
    "    while (n>0):\n",
    "        n1=n%10\n",
    "        sum1=sum1+n1\n",
    "        n=n//10\n",
    "    return sum1\n",
    "n= int(input(\"Enter the num:\"))\n",
    "sum1=Harshad(n)\n",
    "if n%sum1==0:\n",
    "    print(n,\"is Harshad number\")\n",
    "else:\n",
    "    print(n,\"is not Harshad\")\n"
   ]
  },
  {
   "cell_type": "markdown",
   "metadata": {},
   "source": [
    "# 6.\tWrite a Python program to print all pronic numbers between 1 and 100?"
   ]
  },
  {
   "cell_type": "markdown",
   "metadata": {},
   "source": [
    "Algorithm to find Pronic Number\n",
    "Check number N is pronic or not.\n",
    "Calculate the square root K of the given number N.\n",
    "Multiply K * (K+1), if result is equal to the number N, then N is a pronic number otherwise not."
   ]
  },
  {
   "cell_type": "code",
   "execution_count": 64,
   "metadata": {},
   "outputs": [
    {
     "name": "stdout",
     "output_type": "stream",
     "text": [
      "[0, 2, 6, 12, 20, 30, 42, 56, 72, 90]\n"
     ]
    }
   ],
   "source": [
    "import math\n",
    "def checkpronic(n):\n",
    "    i=0\n",
    "    while(i<=(int)(math.sqrt(n))):\n",
    "        if (n==i*(i+1)):\n",
    "            return True\n",
    "        i=i+1\n",
    "    return False\n",
    "i=0\n",
    "list1=[]\n",
    "while (i<=100):\n",
    "    if checkpronic(i):\n",
    "        list1.append(i)\n",
    "    i=i+1\n",
    "print(list1)        \n",
    "    "
   ]
  },
  {
   "cell_type": "code",
   "execution_count": null,
   "metadata": {},
   "outputs": [],
   "source": []
  }
 ],
 "metadata": {
  "kernelspec": {
   "display_name": "Python 3",
   "language": "python",
   "name": "python3"
  },
  "language_info": {
   "codemirror_mode": {
    "name": "ipython",
    "version": 3
   },
   "file_extension": ".py",
   "mimetype": "text/x-python",
   "name": "python",
   "nbconvert_exporter": "python",
   "pygments_lexer": "ipython3",
   "version": "3.8.3"
  }
 },
 "nbformat": 4,
 "nbformat_minor": 4
}
