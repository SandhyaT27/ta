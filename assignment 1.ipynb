{
 "cells": [
  {
   "cell_type": "markdown",
   "metadata": {},
   "source": [
    "# 1.Write a Python program to print \"Hello Python\"?"
   ]
  },
  {
   "cell_type": "code",
   "execution_count": 3,
   "metadata": {},
   "outputs": [
    {
     "name": "stdout",
     "output_type": "stream",
     "text": [
      "Enter string to print the given data: Hello Python\n"
     ]
    }
   ],
   "source": [
    "a  = input(\"Enter string to print the given data: \")"
   ]
  },
  {
   "cell_type": "markdown",
   "metadata": {},
   "source": [
    "# 2.\tWrite a Python program to do arithmetical operations addition and division.?"
   ]
  },
  {
   "cell_type": "code",
   "execution_count": 8,
   "metadata": {},
   "outputs": [
    {
     "name": "stdout",
     "output_type": "stream",
     "text": [
      "Arithmetical Operations\n",
      "Enter any value: 9\n",
      "Enter any value: 5\n",
      "addition of given 2 numbers is : 14\n",
      "division of given 2 numbers is : 1.8\n"
     ]
    }
   ],
   "source": [
    "print(\"Arithmetical Operations\")\n",
    "a = int(input(\"Enter any value: \"))\n",
    "b = int(input(\"Enter any value: \"))\n",
    "c = a + b\n",
    "print(\"addition of given 2 numbers is :\", c)\n",
    "d = a/b\n",
    "print(\"division of given 2 numbers is :\", d)\n"
   ]
  },
  {
   "cell_type": "markdown",
   "metadata": {},
   "source": [
    "# 3.\tWrite a Python program to find the area of a triangle?"
   ]
  },
  {
   "cell_type": "code",
   "execution_count": 9,
   "metadata": {},
   "outputs": [
    {
     "name": "stdout",
     "output_type": "stream",
     "text": [
      "Enter the value for base: 5\n",
      "Enter the value for height: 6\n",
      "The area of a triangle is :  15.0\n"
     ]
    }
   ],
   "source": [
    "#FIRST METHOD:\n",
    "base    = int(input(\"Enter the value for base: \"))\n",
    "height  = int(input(\"Enter the value for height: \"))\n",
    "Area    = (base *height)/2\n",
    "print(\"The area of a triangle is : \",Area)"
   ]
  },
  {
   "cell_type": "code",
   "execution_count": 16,
   "metadata": {},
   "outputs": [
    {
     "name": "stdout",
     "output_type": "stream",
     "text": [
      "Enter the value for first side of triangle: 5\n",
      "Enter the value for second side of triangle: 5\n",
      "Enter the value for third  side of triangle: 5\n",
      "7.5\n",
      "117.1875\n",
      "The area of traingle is :  10.825317547305483\n"
     ]
    }
   ],
   "source": [
    "#SECOND METHOD USING Heron's Formula:\n",
    "#First method for Heron's formula\n",
    "import math\n",
    "a = int(input(\"Enter the value for first side of triangle: \"))\n",
    "b = int(input(\"Enter the value for second side of triangle: \")) \n",
    "c = int(input(\"Enter the value for third  side of triangle: \"))\n",
    "#If we know three sides of a triangle,first calculate the value of s(half of the triangle's perimeter and then calculate area)\n",
    "s = (a+b+c)/2\n",
    "print(s)\n",
    "#before finding the total area,first we will calculate the expression inside square root\n",
    "p = s*(s-a)*(s-b)*(s-c)\n",
    "print(p)\n",
    "Area = math.sqrt(p)\n",
    "print(\"The area of traingle is : \",Area)"
   ]
  },
  {
   "cell_type": "code",
   "execution_count": 15,
   "metadata": {},
   "outputs": [
    {
     "name": "stdout",
     "output_type": "stream",
     "text": [
      "Enter the value for first side of triangle: 5\n",
      "Enter the value for second side of triangle: 5\n",
      "Enter the value for third  side of triangle: 5\n",
      "7.5\n",
      "117.1875\n",
      "The area of traingle is :  10.825317547305483\n"
     ]
    }
   ],
   "source": [
    "#2nd method for Heron's Formula\n",
    "a = int(input(\"Enter the value for first side of triangle: \"))\n",
    "b = int(input(\"Enter the value for second side of triangle: \")) \n",
    "c = int(input(\"Enter the value for third  side of triangle: \"))\n",
    "#If we know three sides of a triangle,first calculate the value of s(half of the triangle's perimeter and then calculate area)\n",
    "s = (a+b+c)/2\n",
    "print(s)\n",
    "#before finding the total area,first we will calculate the expression inside square root\n",
    "p = s*(s-a)*(s-b)*(s-c)\n",
    "print(p)\n",
    "Area = p ** 0.5\n",
    "print(\"The area of traingle is : \",Area)"
   ]
  },
  {
   "cell_type": "markdown",
   "metadata": {},
   "source": [
    "# 4.\tWrite a Python program to swap two variables?"
   ]
  },
  {
   "cell_type": "code",
   "execution_count": 20,
   "metadata": {},
   "outputs": [
    {
     "name": "stdout",
     "output_type": "stream",
     "text": [
      "Enter any value : 6\n",
      "Enter any value : 9\n",
      "The two variables after swapping  9 6\n"
     ]
    }
   ],
   "source": [
    "a = int(input(\"Enter any value : \"))\n",
    "b = int(input(\"Enter any value : \"))\n",
    "c = a # c is temporary variable;Store a value in c\n",
    "a = b#store  value of b in a\n",
    "b = c #store the temporary value c into b\n",
    "print(\"The two variables after swapping \",a ,b)"
   ]
  },
  {
   "cell_type": "markdown",
   "metadata": {},
   "source": [
    "# 5.\tWrite a Python program to generate a random number?"
   ]
  },
  {
   "cell_type": "code",
   "execution_count": 21,
   "metadata": {},
   "outputs": [
    {
     "data": {
      "text/plain": [
       "0.6225207032313115"
      ]
     },
     "execution_count": 21,
     "metadata": {},
     "output_type": "execute_result"
    }
   ],
   "source": [
    "import random\n",
    "a = random.random() #to generate a random number\n",
    "a"
   ]
  },
  {
   "cell_type": "code",
   "execution_count": 26,
   "metadata": {},
   "outputs": [
    {
     "data": {
      "text/plain": [
       "4"
      ]
     },
     "execution_count": 26,
     "metadata": {},
     "output_type": "execute_result"
    }
   ],
   "source": [
    "import random\n",
    "a = random.randint(0,5) #to generate a random number in given range\n",
    "a"
   ]
  }
 ],
 "metadata": {
  "kernelspec": {
   "display_name": "Python 3",
   "language": "python",
   "name": "python3"
  },
  "language_info": {
   "codemirror_mode": {
    "name": "ipython",
    "version": 3
   },
   "file_extension": ".py",
   "mimetype": "text/x-python",
   "name": "python",
   "nbconvert_exporter": "python",
   "pygments_lexer": "ipython3",
   "version": "3.8.3"
  }
 },
 "nbformat": 4,
 "nbformat_minor": 4
}
