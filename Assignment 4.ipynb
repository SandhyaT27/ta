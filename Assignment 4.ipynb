{
 "cells": [
  {
   "cell_type": "markdown",
   "metadata": {},
   "source": [
    "# 1.\tWrite a Python Program to Find the Factorial of a Number?"
   ]
  },
  {
   "cell_type": "code",
   "execution_count": 17,
   "metadata": {},
   "outputs": [
    {
     "name": "stdout",
     "output_type": "stream",
     "text": [
      "Enter any number: 5\n",
      "The factorial of  5 is  120\n"
     ]
    }
   ],
   "source": [
    "a = int(input(\"Enter any number: \"))\n",
    "factorial = 1\n",
    "if a==0:\n",
    "    print(\"The factorial of 0 is 1\")\n",
    "elif a<0:\n",
    "    print(\"The factorial for negative number doesn't exists\")\n",
    "else:\n",
    "    for i in range(1,a+1):\n",
    "        factorial = factorial*i\n",
    "    print(\"The factorial of \",a ,\"is \",factorial)"
   ]
  },
  {
   "cell_type": "markdown",
   "metadata": {},
   "source": [
    "# 2.\tWrite a Python Program to Display the multiplication Table?"
   ]
  },
  {
   "cell_type": "code",
   "execution_count": 2,
   "metadata": {},
   "outputs": [
    {
     "name": "stdout",
     "output_type": "stream",
     "text": [
      "Enter the number for which you want to display Multiplication table: 3\n",
      "The multiplication table of  3\n",
      "3 * 1 = 3\n",
      "3 * 2 = 6\n",
      "3 * 3 = 9\n",
      "3 * 4 = 12\n",
      "3 * 5 = 15\n",
      "3 * 6 = 18\n",
      "3 * 7 = 21\n",
      "3 * 8 = 24\n",
      "3 * 9 = 27\n",
      "3 * 10 = 30\n"
     ]
    }
   ],
   "source": [
    "a = int(input(\"Enter the number for which you want to display Multiplication table: \"))\n",
    "print(\"The multiplication table of \",a)\n",
    "for i in range(1,11):\n",
    "    print(a ,'*',i,'=', a*i)"
   ]
  },
  {
   "cell_type": "markdown",
   "metadata": {},
   "source": [
    "# 3.\tWrite a Python Program to Print the Fibonacci sequence?"
   ]
  },
  {
   "cell_type": "code",
   "execution_count": 7,
   "metadata": {},
   "outputs": [
    {
     "name": "stdout",
     "output_type": "stream",
     "text": [
      "Enter the number of terms: 4\n",
      "Fibonacci Sequence: \n",
      "0 , 1,1,2,"
     ]
    }
   ],
   "source": [
    "n = int(input(\"Enter the number of terms: \"))\n",
    "a = 0\n",
    "b = 1\n",
    "count = 2\n",
    "if n<=0:\n",
    "    print(\"Enter a positive integer\")\n",
    "elif n == 1:\n",
    "    print(\"Fibonacci Sequence: \")\n",
    "    print(a)\n",
    "else:\n",
    "    print(\"Fibonacci Sequence: \")\n",
    "    print(a,',',b,end=',')\n",
    "    while count<n :\n",
    "        c = a+b\n",
    "        print(c,end=',')\n",
    "        a = b\n",
    "        b = c\n",
    "        count = count +1"
   ]
  },
  {
   "cell_type": "markdown",
   "metadata": {},
   "source": [
    "# 4.\tWrite a Python Program to Check Armstrong Number?"
   ]
  },
  {
   "cell_type": "code",
   "execution_count": 12,
   "metadata": {},
   "outputs": [
    {
     "name": "stdout",
     "output_type": "stream",
     "text": [
      "Enter the number: 153\n",
      "3 digits\n",
      "The given number is Armstrong\n"
     ]
    }
   ],
   "source": [
    "a = int(input(\"Enter the number: \"))\n",
    "result = 0\n",
    "b=a\n",
    "#armstrong num: sum of nth powers  of n digits of given number = given number\n",
    "n = len(str(a))\n",
    "print(n,\"digits\")\n",
    "while b>0:\n",
    "    remainder = b%10\n",
    "    result = result + remainder**n\n",
    "    b = b//10\n",
    "if a==result:\n",
    "    print(\"The given number is Armstrong\")\n",
    "else:\n",
    "    print(\"The given number is not Armstrong\")\n"
   ]
  },
  {
   "cell_type": "markdown",
   "metadata": {},
   "source": [
    "# 5.\tWrite a Python Program to Find Armstrong Number in an Interval?"
   ]
  },
  {
   "cell_type": "code",
   "execution_count": 13,
   "metadata": {},
   "outputs": [
    {
     "name": "stdout",
     "output_type": "stream",
     "text": [
      "Enter the lower range number: 100\n",
      "Enter the uppernrange number: 300\n",
      "125\n",
      "153\n",
      "216\n"
     ]
    }
   ],
   "source": [
    "lower = int(input(\"Enter the lower range number: \"))\n",
    "upper= int(input(\"Enter the uppernrange number: \"))\n",
    "for i in range(lower,upper+1):\n",
    "    result = 0\n",
    "    num = i\n",
    "    while num>0:\n",
    "        remainder = num%10\n",
    "        result= result + remainder**3\n",
    "        num = num//10\n",
    "        if i == result:\n",
    "            print(i)\n",
    "        \n",
    "        "
   ]
  },
  {
   "cell_type": "markdown",
   "metadata": {},
   "source": [
    "# 6.\tWrite a Python Program to Find the Sum of Natural Numbers?\n"
   ]
  },
  {
   "cell_type": "code",
   "execution_count": 9,
   "metadata": {},
   "outputs": [
    {
     "name": "stdout",
     "output_type": "stream",
     "text": [
      "Enter the range of n natural numbers: 10\n",
      "55\n"
     ]
    }
   ],
   "source": [
    "upperlimit = int(input(\"Enter the range of n natural numbers: \"))\n",
    "result = 0\n",
    "for i in range(1,upperlimit+1):\n",
    "    result = result + i\n",
    "    i = i + 1\n",
    "print(result)"
   ]
  }
 ],
 "metadata": {
  "kernelspec": {
   "display_name": "Python 3",
   "language": "python",
   "name": "python3"
  },
  "language_info": {
   "codemirror_mode": {
    "name": "ipython",
    "version": 3
   },
   "file_extension": ".py",
   "mimetype": "text/x-python",
   "name": "python",
   "nbconvert_exporter": "python",
   "pygments_lexer": "ipython3",
   "version": "3.8.3"
  }
 },
 "nbformat": 4,
 "nbformat_minor": 4
}
